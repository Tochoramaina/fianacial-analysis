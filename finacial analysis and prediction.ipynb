{
 "cells": [
  {
   "cell_type": "code",
   "execution_count": 204,
   "metadata": {},
   "outputs": [],
   "source": [
    "# importing the necessary libraries\n",
    "import pandas as pd\n",
    "import matplotlib.pyplot as plt\n",
    "import numpy as np\n",
    "import seaborn as sns"
   ]
  },
  {
   "cell_type": "code",
   "execution_count": 205,
   "metadata": {},
   "outputs": [
    {
     "data": {
      "text/html": [
       "<div>\n",
       "<style scoped>\n",
       "    .dataframe tbody tr th:only-of-type {\n",
       "        vertical-align: middle;\n",
       "    }\n",
       "\n",
       "    .dataframe tbody tr th {\n",
       "        vertical-align: top;\n",
       "    }\n",
       "\n",
       "    .dataframe thead th {\n",
       "        text-align: right;\n",
       "    }\n",
       "</style>\n",
       "<table border=\"1\" class=\"dataframe\">\n",
       "  <thead>\n",
       "    <tr style=\"text-align: right;\">\n",
       "      <th></th>\n",
       "      <th>country</th>\n",
       "      <th>year</th>\n",
       "      <th>uniqueid</th>\n",
       "      <th>Has a Bank account</th>\n",
       "      <th>Type of Location</th>\n",
       "      <th>Cell Phone Access</th>\n",
       "      <th>household_size</th>\n",
       "      <th>Respondent Age</th>\n",
       "      <th>gender_of_respondent</th>\n",
       "      <th>The relathip with head</th>\n",
       "      <th>marital_status</th>\n",
       "      <th>Level of Educuation</th>\n",
       "      <th>Type of Job</th>\n",
       "    </tr>\n",
       "  </thead>\n",
       "  <tbody>\n",
       "    <tr>\n",
       "      <th>0</th>\n",
       "      <td>Kenya</td>\n",
       "      <td>2018</td>\n",
       "      <td>uniqueid_1</td>\n",
       "      <td>Yes</td>\n",
       "      <td>Rural</td>\n",
       "      <td>Yes</td>\n",
       "      <td>3.0</td>\n",
       "      <td>24.0</td>\n",
       "      <td>Female</td>\n",
       "      <td>Spouse</td>\n",
       "      <td>Married/Living together</td>\n",
       "      <td>Secondary education</td>\n",
       "      <td>Self employed</td>\n",
       "    </tr>\n",
       "    <tr>\n",
       "      <th>1</th>\n",
       "      <td>Kenya</td>\n",
       "      <td>2018</td>\n",
       "      <td>uniqueid_2</td>\n",
       "      <td>No</td>\n",
       "      <td>Rural</td>\n",
       "      <td>No</td>\n",
       "      <td>5.0</td>\n",
       "      <td>70.0</td>\n",
       "      <td>Female</td>\n",
       "      <td>Head of Household</td>\n",
       "      <td>Widowed</td>\n",
       "      <td>No formal education</td>\n",
       "      <td>Government Dependent</td>\n",
       "    </tr>\n",
       "    <tr>\n",
       "      <th>2</th>\n",
       "      <td>Kenya</td>\n",
       "      <td>2018</td>\n",
       "      <td>uniqueid_3</td>\n",
       "      <td>Yes</td>\n",
       "      <td>Urban</td>\n",
       "      <td>Yes</td>\n",
       "      <td>5.0</td>\n",
       "      <td>26.0</td>\n",
       "      <td>Male</td>\n",
       "      <td>Other relative</td>\n",
       "      <td>Single/Never Married</td>\n",
       "      <td>Vocational/Specialised training</td>\n",
       "      <td>Self employed</td>\n",
       "    </tr>\n",
       "    <tr>\n",
       "      <th>3</th>\n",
       "      <td>Kenya</td>\n",
       "      <td>2018</td>\n",
       "      <td>uniqueid_4</td>\n",
       "      <td>No</td>\n",
       "      <td>Rural</td>\n",
       "      <td>Yes</td>\n",
       "      <td>5.0</td>\n",
       "      <td>34.0</td>\n",
       "      <td>Female</td>\n",
       "      <td>Head of Household</td>\n",
       "      <td>Married/Living together</td>\n",
       "      <td>Primary education</td>\n",
       "      <td>Formally employed Private</td>\n",
       "    </tr>\n",
       "    <tr>\n",
       "      <th>4</th>\n",
       "      <td>Kenya</td>\n",
       "      <td>2018</td>\n",
       "      <td>uniqueid_5</td>\n",
       "      <td>No</td>\n",
       "      <td>Urban</td>\n",
       "      <td>No</td>\n",
       "      <td>8.0</td>\n",
       "      <td>26.0</td>\n",
       "      <td>Male</td>\n",
       "      <td>Child</td>\n",
       "      <td>Single/Never Married</td>\n",
       "      <td>Primary education</td>\n",
       "      <td>Informally employed</td>\n",
       "    </tr>\n",
       "  </tbody>\n",
       "</table>\n",
       "</div>"
      ],
      "text/plain": [
       "  country  year    uniqueid Has a Bank account Type of Location  \\\n",
       "0   Kenya  2018  uniqueid_1                Yes            Rural   \n",
       "1   Kenya  2018  uniqueid_2                 No            Rural   \n",
       "2   Kenya  2018  uniqueid_3                Yes            Urban   \n",
       "3   Kenya  2018  uniqueid_4                 No            Rural   \n",
       "4   Kenya  2018  uniqueid_5                 No            Urban   \n",
       "\n",
       "  Cell Phone Access  household_size  Respondent Age gender_of_respondent  \\\n",
       "0               Yes             3.0            24.0               Female   \n",
       "1                No             5.0            70.0               Female   \n",
       "2               Yes             5.0            26.0                 Male   \n",
       "3               Yes             5.0            34.0               Female   \n",
       "4                No             8.0            26.0                 Male   \n",
       "\n",
       "  The relathip with head           marital_status  \\\n",
       "0                 Spouse  Married/Living together   \n",
       "1      Head of Household                  Widowed   \n",
       "2         Other relative     Single/Never Married   \n",
       "3      Head of Household  Married/Living together   \n",
       "4                  Child     Single/Never Married   \n",
       "\n",
       "               Level of Educuation                Type of Job  \n",
       "0              Secondary education              Self employed  \n",
       "1              No formal education       Government Dependent  \n",
       "2  Vocational/Specialised training              Self employed  \n",
       "3                Primary education  Formally employed Private  \n",
       "4                Primary education        Informally employed  "
      ]
     },
     "execution_count": 205,
     "metadata": {},
     "output_type": "execute_result"
    }
   ],
   "source": [
    "# loading our dataset from a local folder\n",
    "df = pd.read_csv(r'C:/Users/test/Documents/tochora/dataset/Financial Dataset - 1.csv')\n",
    "df.head()"
   ]
  },
  {
   "cell_type": "code",
   "execution_count": 206,
   "metadata": {},
   "outputs": [
    {
     "data": {
      "text/plain": [
       "Index(['country', 'year', 'uniqueid', 'Has a Bank account', 'Type of Location',\n",
       "       'Cell Phone Access', 'household_size', 'Respondent Age',\n",
       "       'gender_of_respondent', 'The relathip with head', 'marital_status',\n",
       "       'Level of Educuation', 'Type of Job'],\n",
       "      dtype='object')"
      ]
     },
     "execution_count": 206,
     "metadata": {},
     "output_type": "execute_result"
    }
   ],
   "source": [
    "# checking columns in our dataset\n",
    "df.columns"
   ]
  },
  {
   "cell_type": "code",
   "execution_count": 207,
   "metadata": {},
   "outputs": [],
   "source": [
    "# renaming columns into the appropriate form\n",
    "df.rename({'uniqueid':'UniqueID', 'Has a Bank account': 'Bank_Account', 'Type of Location':'Location_Type',\n",
    "'Cell Phone Access': 'Cellphone_Access', 'Respondent Age': 'Respondent_Age', 'gender_of_respondent':'Gender',\n",
    "'The relathip with head': 'Relationship_with_head','Level of Educuation': 'Education_Level',\n",
    "'Type of Job': 'Job_Type'}, inplace=True, axis=1)\n"
   ]
  },
  {
   "cell_type": "code",
   "execution_count": 208,
   "metadata": {},
   "outputs": [
    {
     "data": {
      "text/html": [
       "<div>\n",
       "<style scoped>\n",
       "    .dataframe tbody tr th:only-of-type {\n",
       "        vertical-align: middle;\n",
       "    }\n",
       "\n",
       "    .dataframe tbody tr th {\n",
       "        vertical-align: top;\n",
       "    }\n",
       "\n",
       "    .dataframe thead th {\n",
       "        text-align: right;\n",
       "    }\n",
       "</style>\n",
       "<table border=\"1\" class=\"dataframe\">\n",
       "  <thead>\n",
       "    <tr style=\"text-align: right;\">\n",
       "      <th></th>\n",
       "      <th>country</th>\n",
       "      <th>year</th>\n",
       "      <th>UniqueID</th>\n",
       "      <th>Bank_Account</th>\n",
       "      <th>Location_Type</th>\n",
       "      <th>Cellphone_Access</th>\n",
       "      <th>household_size</th>\n",
       "      <th>Respondent_Age</th>\n",
       "      <th>Gender</th>\n",
       "      <th>Relationship_with_head</th>\n",
       "      <th>marital_status</th>\n",
       "      <th>Education_Level</th>\n",
       "      <th>Job_Type</th>\n",
       "    </tr>\n",
       "  </thead>\n",
       "  <tbody>\n",
       "    <tr>\n",
       "      <th>0</th>\n",
       "      <td>Kenya</td>\n",
       "      <td>2018</td>\n",
       "      <td>uniqueid_1</td>\n",
       "      <td>Yes</td>\n",
       "      <td>Rural</td>\n",
       "      <td>Yes</td>\n",
       "      <td>3.0</td>\n",
       "      <td>24.0</td>\n",
       "      <td>Female</td>\n",
       "      <td>Spouse</td>\n",
       "      <td>Married/Living together</td>\n",
       "      <td>Secondary education</td>\n",
       "      <td>Self employed</td>\n",
       "    </tr>\n",
       "    <tr>\n",
       "      <th>1</th>\n",
       "      <td>Kenya</td>\n",
       "      <td>2018</td>\n",
       "      <td>uniqueid_2</td>\n",
       "      <td>No</td>\n",
       "      <td>Rural</td>\n",
       "      <td>No</td>\n",
       "      <td>5.0</td>\n",
       "      <td>70.0</td>\n",
       "      <td>Female</td>\n",
       "      <td>Head of Household</td>\n",
       "      <td>Widowed</td>\n",
       "      <td>No formal education</td>\n",
       "      <td>Government Dependent</td>\n",
       "    </tr>\n",
       "    <tr>\n",
       "      <th>2</th>\n",
       "      <td>Kenya</td>\n",
       "      <td>2018</td>\n",
       "      <td>uniqueid_3</td>\n",
       "      <td>Yes</td>\n",
       "      <td>Urban</td>\n",
       "      <td>Yes</td>\n",
       "      <td>5.0</td>\n",
       "      <td>26.0</td>\n",
       "      <td>Male</td>\n",
       "      <td>Other relative</td>\n",
       "      <td>Single/Never Married</td>\n",
       "      <td>Vocational/Specialised training</td>\n",
       "      <td>Self employed</td>\n",
       "    </tr>\n",
       "    <tr>\n",
       "      <th>3</th>\n",
       "      <td>Kenya</td>\n",
       "      <td>2018</td>\n",
       "      <td>uniqueid_4</td>\n",
       "      <td>No</td>\n",
       "      <td>Rural</td>\n",
       "      <td>Yes</td>\n",
       "      <td>5.0</td>\n",
       "      <td>34.0</td>\n",
       "      <td>Female</td>\n",
       "      <td>Head of Household</td>\n",
       "      <td>Married/Living together</td>\n",
       "      <td>Primary education</td>\n",
       "      <td>Formally employed Private</td>\n",
       "    </tr>\n",
       "    <tr>\n",
       "      <th>4</th>\n",
       "      <td>Kenya</td>\n",
       "      <td>2018</td>\n",
       "      <td>uniqueid_5</td>\n",
       "      <td>No</td>\n",
       "      <td>Urban</td>\n",
       "      <td>No</td>\n",
       "      <td>8.0</td>\n",
       "      <td>26.0</td>\n",
       "      <td>Male</td>\n",
       "      <td>Child</td>\n",
       "      <td>Single/Never Married</td>\n",
       "      <td>Primary education</td>\n",
       "      <td>Informally employed</td>\n",
       "    </tr>\n",
       "  </tbody>\n",
       "</table>\n",
       "</div>"
      ],
      "text/plain": [
       "  country  year    UniqueID Bank_Account Location_Type Cellphone_Access  \\\n",
       "0   Kenya  2018  uniqueid_1          Yes         Rural              Yes   \n",
       "1   Kenya  2018  uniqueid_2           No         Rural               No   \n",
       "2   Kenya  2018  uniqueid_3          Yes         Urban              Yes   \n",
       "3   Kenya  2018  uniqueid_4           No         Rural              Yes   \n",
       "4   Kenya  2018  uniqueid_5           No         Urban               No   \n",
       "\n",
       "   household_size  Respondent_Age  Gender Relationship_with_head  \\\n",
       "0             3.0            24.0  Female                 Spouse   \n",
       "1             5.0            70.0  Female      Head of Household   \n",
       "2             5.0            26.0    Male         Other relative   \n",
       "3             5.0            34.0  Female      Head of Household   \n",
       "4             8.0            26.0    Male                  Child   \n",
       "\n",
       "            marital_status                  Education_Level  \\\n",
       "0  Married/Living together              Secondary education   \n",
       "1                  Widowed              No formal education   \n",
       "2     Single/Never Married  Vocational/Specialised training   \n",
       "3  Married/Living together                Primary education   \n",
       "4     Single/Never Married                Primary education   \n",
       "\n",
       "                    Job_Type  \n",
       "0              Self employed  \n",
       "1       Government Dependent  \n",
       "2              Self employed  \n",
       "3  Formally employed Private  \n",
       "4        Informally employed  "
      ]
     },
     "execution_count": 208,
     "metadata": {},
     "output_type": "execute_result"
    }
   ],
   "source": [
    "df.head()"
   ]
  },
  {
   "cell_type": "code",
   "execution_count": 209,
   "metadata": {},
   "outputs": [
    {
     "data": {
      "text/plain": [
       "<bound method DataFrame.info of       country  year       UniqueID Bank_Account Location_Type  \\\n",
       "0       Kenya  2018     uniqueid_1          Yes         Rural   \n",
       "1       Kenya  2018     uniqueid_2           No         Rural   \n",
       "2       Kenya  2018     uniqueid_3          Yes         Urban   \n",
       "3       Kenya  2018     uniqueid_4           No         Rural   \n",
       "4       Kenya  2018     uniqueid_5           No         Urban   \n",
       "...       ...   ...            ...          ...           ...   \n",
       "23519  Uganda  2018  uniqueid_2113           No         Rural   \n",
       "23520  Uganda  2018  uniqueid_2114           No         Rural   \n",
       "23521  Uganda  2018  uniqueid_2115           No         Rural   \n",
       "23522  Uganda  2018  uniqueid_2116           No         Urban   \n",
       "23523  Uganda  2018  uniqueid_2117           No         Rural   \n",
       "\n",
       "      Cellphone_Access  household_size  Respondent_Age  Gender  \\\n",
       "0                  Yes             3.0            24.0  Female   \n",
       "1                   No             5.0            70.0  Female   \n",
       "2                  Yes             5.0            26.0    Male   \n",
       "3                  Yes             5.0            34.0  Female   \n",
       "4                   No             8.0            26.0    Male   \n",
       "...                ...             ...             ...     ...   \n",
       "23519              Yes             4.0            48.0  Female   \n",
       "23520              Yes             2.0            27.0  Female   \n",
       "23521              Yes             5.0            27.0  Female   \n",
       "23522              Yes             7.0            30.0  Female   \n",
       "23523              Yes            10.0            20.0    Male   \n",
       "\n",
       "      Relationship_with_head           marital_status  \\\n",
       "0                     Spouse  Married/Living together   \n",
       "1          Head of Household                  Widowed   \n",
       "2             Other relative     Single/Never Married   \n",
       "3          Head of Household  Married/Living together   \n",
       "4                      Child     Single/Never Married   \n",
       "...                      ...                      ...   \n",
       "23519      Head of Household       Divorced/Seperated   \n",
       "23520      Head of Household     Single/Never Married   \n",
       "23521                 Parent                  Widowed   \n",
       "23522                 Parent       Divorced/Seperated   \n",
       "23523                  Child     Single/Never Married   \n",
       "\n",
       "                       Education_Level                   Job_Type  \n",
       "0                  Secondary education              Self employed  \n",
       "1                  No formal education       Government Dependent  \n",
       "2      Vocational/Specialised training              Self employed  \n",
       "3                    Primary education  Formally employed Private  \n",
       "4                    Primary education        Informally employed  \n",
       "...                                ...                        ...  \n",
       "23519              No formal education               Other Income  \n",
       "23520              Secondary education               Other Income  \n",
       "23521                Primary education               Other Income  \n",
       "23522              Secondary education              Self employed  \n",
       "23523              Secondary education                  No Income  \n",
       "\n",
       "[23524 rows x 13 columns]>"
      ]
     },
     "execution_count": 209,
     "metadata": {},
     "output_type": "execute_result"
    }
   ],
   "source": [
    "# info of the data\n",
    "df.info"
   ]
  },
  {
   "cell_type": "code",
   "execution_count": 210,
   "metadata": {},
   "outputs": [
    {
     "data": {
      "text/plain": [
       "country                   14\n",
       "year                       0\n",
       "UniqueID                   0\n",
       "Bank_Account              36\n",
       "Location_Type             15\n",
       "Cellphone_Access          11\n",
       "household_size            28\n",
       "Respondent_Age            34\n",
       "Gender                    34\n",
       "Relationship_with_head     4\n",
       "marital_status            32\n",
       "Education_Level           29\n",
       "Job_Type                  30\n",
       "dtype: int64"
      ]
     },
     "execution_count": 210,
     "metadata": {},
     "output_type": "execute_result"
    }
   ],
   "source": [
    "# checking whether our dataset contains null values\n",
    "df.isnull().sum()"
   ]
  },
  {
   "cell_type": "markdown",
   "metadata": {},
   "source": [
    "Null values in our dataset are few thus we will remove them by using dropna function."
   ]
  },
  {
   "cell_type": "code",
   "execution_count": 211,
   "metadata": {},
   "outputs": [],
   "source": [
    "# dropping null values\n",
    "df.dropna(inplace=True)"
   ]
  },
  {
   "cell_type": "code",
   "execution_count": 212,
   "metadata": {},
   "outputs": [
    {
     "data": {
      "text/plain": [
       "country                   0\n",
       "year                      0\n",
       "UniqueID                  0\n",
       "Bank_Account              0\n",
       "Location_Type             0\n",
       "Cellphone_Access          0\n",
       "household_size            0\n",
       "Respondent_Age            0\n",
       "Gender                    0\n",
       "Relationship_with_head    0\n",
       "marital_status            0\n",
       "Education_Level           0\n",
       "Job_Type                  0\n",
       "dtype: int64"
      ]
     },
     "execution_count": 212,
     "metadata": {},
     "output_type": "execute_result"
    }
   ],
   "source": [
    "df.isnull().sum()"
   ]
  },
  {
   "cell_type": "markdown",
   "metadata": {},
   "source": [
    "our dataset now is devoid of null values"
   ]
  },
  {
   "cell_type": "code",
   "execution_count": 213,
   "metadata": {},
   "outputs": [
    {
     "data": {
      "text/html": [
       "<style type=\"text/css\">\n",
       "#T_ef481_row0_col0, #T_ef481_row0_col2, #T_ef481_row1_col0, #T_ef481_row1_col1, #T_ef481_row1_col3, #T_ef481_row1_col4, #T_ef481_row1_col5, #T_ef481_row1_col6, #T_ef481_row1_col7, #T_ef481_row2_col0 {\n",
       "  background-color: #fff7fb;\n",
       "  color: #000000;\n",
       "}\n",
       "#T_ef481_row0_col1, #T_ef481_row0_col3, #T_ef481_row0_col4, #T_ef481_row0_col5, #T_ef481_row0_col6, #T_ef481_row0_col7, #T_ef481_row2_col2 {\n",
       "  background-color: #023858;\n",
       "  color: #f1f1f1;\n",
       "}\n",
       "#T_ef481_row1_col2 {\n",
       "  background-color: #f2ecf5;\n",
       "  color: #000000;\n",
       "}\n",
       "#T_ef481_row2_col1, #T_ef481_row2_col4, #T_ef481_row2_col5 {\n",
       "  background-color: #fdf5fa;\n",
       "  color: #000000;\n",
       "}\n",
       "#T_ef481_row2_col3 {\n",
       "  background-color: #fef6fa;\n",
       "  color: #000000;\n",
       "}\n",
       "#T_ef481_row2_col6 {\n",
       "  background-color: #fcf4fa;\n",
       "  color: #000000;\n",
       "}\n",
       "#T_ef481_row2_col7 {\n",
       "  background-color: #faf2f8;\n",
       "  color: #000000;\n",
       "}\n",
       "</style>\n",
       "<table id=\"T_ef481\">\n",
       "  <thead>\n",
       "    <tr>\n",
       "      <th class=\"blank level0\" >&nbsp;</th>\n",
       "      <th id=\"T_ef481_level0_col0\" class=\"col_heading level0 col0\" >count</th>\n",
       "      <th id=\"T_ef481_level0_col1\" class=\"col_heading level0 col1\" >mean</th>\n",
       "      <th id=\"T_ef481_level0_col2\" class=\"col_heading level0 col2\" >std</th>\n",
       "      <th id=\"T_ef481_level0_col3\" class=\"col_heading level0 col3\" >min</th>\n",
       "      <th id=\"T_ef481_level0_col4\" class=\"col_heading level0 col4\" >25%</th>\n",
       "      <th id=\"T_ef481_level0_col5\" class=\"col_heading level0 col5\" >50%</th>\n",
       "      <th id=\"T_ef481_level0_col6\" class=\"col_heading level0 col6\" >75%</th>\n",
       "      <th id=\"T_ef481_level0_col7\" class=\"col_heading level0 col7\" >max</th>\n",
       "    </tr>\n",
       "  </thead>\n",
       "  <tbody>\n",
       "    <tr>\n",
       "      <th id=\"T_ef481_level0_row0\" class=\"row_heading level0 row0\" >year</th>\n",
       "      <td id=\"T_ef481_row0_col0\" class=\"data row0 col0\" >23343.000000</td>\n",
       "      <td id=\"T_ef481_row0_col1\" class=\"data row0 col1\" >2016.980594</td>\n",
       "      <td id=\"T_ef481_row0_col2\" class=\"data row0 col2\" >0.901740</td>\n",
       "      <td id=\"T_ef481_row0_col3\" class=\"data row0 col3\" >2016.000000</td>\n",
       "      <td id=\"T_ef481_row0_col4\" class=\"data row0 col4\" >2016.000000</td>\n",
       "      <td id=\"T_ef481_row0_col5\" class=\"data row0 col5\" >2017.000000</td>\n",
       "      <td id=\"T_ef481_row0_col6\" class=\"data row0 col6\" >2018.000000</td>\n",
       "      <td id=\"T_ef481_row0_col7\" class=\"data row0 col7\" >2056.000000</td>\n",
       "    </tr>\n",
       "    <tr>\n",
       "      <th id=\"T_ef481_level0_row1\" class=\"row_heading level0 row1\" >household_size</th>\n",
       "      <td id=\"T_ef481_row1_col0\" class=\"data row1 col0\" >23343.000000</td>\n",
       "      <td id=\"T_ef481_row1_col1\" class=\"data row1 col1\" >3.688643</td>\n",
       "      <td id=\"T_ef481_row1_col2\" class=\"data row1 col2\" >2.281184</td>\n",
       "      <td id=\"T_ef481_row1_col3\" class=\"data row1 col3\" >0.000000</td>\n",
       "      <td id=\"T_ef481_row1_col4\" class=\"data row1 col4\" >2.000000</td>\n",
       "      <td id=\"T_ef481_row1_col5\" class=\"data row1 col5\" >3.000000</td>\n",
       "      <td id=\"T_ef481_row1_col6\" class=\"data row1 col6\" >5.000000</td>\n",
       "      <td id=\"T_ef481_row1_col7\" class=\"data row1 col7\" >21.000000</td>\n",
       "    </tr>\n",
       "    <tr>\n",
       "      <th id=\"T_ef481_level0_row2\" class=\"row_heading level0 row2\" >Respondent_Age</th>\n",
       "      <td id=\"T_ef481_row2_col0\" class=\"data row2 col0\" >23343.000000</td>\n",
       "      <td id=\"T_ef481_row2_col1\" class=\"data row2 col1\" >38.805509</td>\n",
       "      <td id=\"T_ef481_row2_col2\" class=\"data row2 col2\" >16.519803</td>\n",
       "      <td id=\"T_ef481_row2_col3\" class=\"data row2 col3\" >16.000000</td>\n",
       "      <td id=\"T_ef481_row2_col4\" class=\"data row2 col4\" >26.000000</td>\n",
       "      <td id=\"T_ef481_row2_col5\" class=\"data row2 col5\" >35.000000</td>\n",
       "      <td id=\"T_ef481_row2_col6\" class=\"data row2 col6\" >49.000000</td>\n",
       "      <td id=\"T_ef481_row2_col7\" class=\"data row2 col7\" >100.000000</td>\n",
       "    </tr>\n",
       "  </tbody>\n",
       "</table>\n"
      ],
      "text/plain": [
       "<pandas.io.formats.style.Styler at 0x255ca7057f0>"
      ]
     },
     "execution_count": 213,
     "metadata": {},
     "output_type": "execute_result"
    }
   ],
   "source": [
    "# statistics \n",
    "df.describe().T.style.background_gradient()"
   ]
  },
  {
   "cell_type": "markdown",
   "metadata": {},
   "source": [
    "NB:there are only two columns that have numerical values in our dataset.Describe function returns the mean, standard deviation, max and \n",
    "quartiles from our dataset for various columns"
   ]
  },
  {
   "cell_type": "markdown",
   "metadata": {},
   "source": [
    "Data Visualisation"
   ]
  },
  {
   "cell_type": "code",
   "execution_count": 214,
   "metadata": {},
   "outputs": [
    {
     "data": {
      "image/png": "[encoded data removed]",
      "text/plain": [
       "<Figure size 576x432 with 1 Axes>"
      ]
     },
     "metadata": {
      "needs_background": "light"
     },
     "output_type": "display_data"
    }
   ],
   "source": [
    "plt.figure(figsize=(8,6))\n",
    "sns.barplot(x='Location_Type',y='Respondent_Age',data=df,palette='coolwarm', hue='Gender').set(title=' Relationship between Location type and Respondent Age')\n",
    "plt.show()"
   ]
  },
  {
   "cell_type": "markdown",
   "metadata": {},
   "source": [
    "The number of females in the rural areas is slightly higher than those of males while in urban, males are many compared to females\n",
    "as shown by the figure above.this maybe a result of women being left to take care of family in rural areas while are men are looking \n",
    "for job oppurtunities in urban areas."
   ]
  },
  {
   "cell_type": "code",
   "execution_count": 215,
   "metadata": {},
   "outputs": [
    {
     "data": {
      "image/png": "[encoded data removed]",
      "text/plain": [
       "<Figure size 576x432 with 1 Axes>"
      ]
     },
     "metadata": {
      "needs_background": "light"
     },
     "output_type": "display_data"
    }
   ],
   "source": [
    "plt.figure(figsize=(8,6))\n",
    "sns.barplot(x='household_size',y='Job_Type',data=df)\n",
    "plt.title('Relationship between Job type and Household size')\n",
    "plt.show()"
   ]
  },
  {
   "cell_type": "markdown",
   "metadata": {},
   "source": [
    " Household size has the highest distribution when one does farming  and fishing and  it's smallest when one has no income.Self-employed,\n",
    " Government dependent and formally employed private tend to have smaller household size.This maybe a result  of being aware of  how having\n",
    " a large household size may be detrimental on their income and overall welfare.\n",
    " "
   ]
  },
  {
   "cell_type": "code",
   "execution_count": 216,
   "metadata": {},
   "outputs": [
    {
     "data": {
      "image/png": "[encoded data removed]",
      "text/plain": [
       "<Figure size 576x432 with 1 Axes>"
      ]
     },
     "metadata": {
      "needs_background": "light"
     },
     "output_type": "display_data"
    }
   ],
   "source": [
    "plt.figure(figsize=(8, 6))\n",
    "sns.barplot(x='Respondent_Age',y='Job_Type', data=df)\n",
    "plt.title('Relationship between Job type and Respondent age')\n",
    "plt.show()"
   ]
  },
  {
   "cell_type": "markdown",
   "metadata": {},
   "source": [
    "Government dependent jobs consist of respondents aged 60 years and above while No income consist of respondents aged approximately 33 years and \n",
    "below.The rest of job sectors tend to have repondents who are aged slightly 46 years and below."
   ]
  },
  {
   "cell_type": "code",
   "execution_count": 217,
   "metadata": {},
   "outputs": [
    {
     "data": {
      "image/png": "[encoded data removed]",
      "text/plain": [
       "<Figure size 576x432 with 1 Axes>"
      ]
     },
     "metadata": {
      "needs_background": "light"
     },
     "output_type": "display_data"
    }
   ],
   "source": [
    "plt.figure(figsize=(8, 6))\n",
    "sns.barplot(x='Bank_Account', y='Respondent_Age', hue='Gender', data=df)\n",
    "plt.title('comparison between Bank acount and Respondent_Age')\n",
    "plt.show()"
   ]
  },
  {
   "cell_type": "markdown",
   "metadata": {},
   "source": [
    "Males respondents tend to have slightly higher number of bank accounts compared to their female counterparts.This is because\n",
    "the countries being observed are developing countries and women don't form a huge portion of the working force.\n",
    "The distribution of females amd males who don't have a bank account is the same."
   ]
  },
  {
   "cell_type": "code",
   "execution_count": 218,
   "metadata": {},
   "outputs": [
    {
     "data": {
      "image/png": "[encoded data removed]",
      "text/plain": [
       "<Figure size 576x432 with 1 Axes>"
      ]
     },
     "metadata": {
      "needs_background": "light"
     },
     "output_type": "display_data"
    }
   ],
   "source": [
    "plt.figure(figsize=(8, 6))\n",
    "sns.barplot(x='Respondent_Age', y='Education_Level', data=df, ci=2)\n",
    "plt.title('Relationship between Respondent_Age and Education_Level')\n",
    "plt.show()"
   ]
  },
  {
   "cell_type": "markdown",
   "metadata": {},
   "source": [
    "Most of the respondents aged more than 45 years old either have no formal education or Don't know whether they got any education.Tertiarry\n",
    "education have repondents aged approximately 33 years and below indicating underdevelopemt of capacity of the institutions and also\n",
    "how recent as an educational institutions they are."
   ]
  },
  {
   "cell_type": "code",
   "execution_count": 219,
   "metadata": {},
   "outputs": [
    {
     "data": {
      "text/plain": [
       "Self employed                   6361\n",
       "Informally employed             5550\n",
       "Farming and Fishing             5422\n",
       "Remittance Dependent            2509\n",
       "Other Income                    1077\n",
       "Formally employed Private       1048\n",
       "No Income                        618\n",
       "Formally employed Government     386\n",
       "Government Dependent             247\n",
       "Dont Know/Refuse to answer       125\n",
       "Name: Job_Type, dtype: int64"
      ]
     },
     "execution_count": 219,
     "metadata": {},
     "output_type": "execute_result"
    }
   ],
   "source": [
    "df['Job_Type'].value_counts()"
   ]
  },
  {
   "cell_type": "markdown",
   "metadata": {},
   "source": [
    "variables in job type column and their frequencies"
   ]
  },
  {
   "cell_type": "code",
   "execution_count": 220,
   "metadata": {},
   "outputs": [
    {
     "data": {
      "image/png": "[encoded data removed]",
      "text/plain": [
       "<Figure size 576x576 with 1 Axes>"
      ]
     },
     "metadata": {},
     "output_type": "display_data"
    }
   ],
   "source": [
    "plt.figure(figsize=(8, 8))\n",
    "plt.pie(df['Job_Type'].value_counts(), labels=df['Job_Type'].unique(), textprops={'color': 'white'},autopct=\"%.1f%%\")\n",
    "plt.legend(loc='upper right')\n",
    "plt.axis('equal')\n",
    "plt.show()"
   ]
  },
  {
   "cell_type": "markdown",
   "metadata": {},
   "source": [
    "Self employed people have the highest percentage of  27.3 while  No income people have the lowest percentage of 0.5.This means that most of\n",
    "respondents are entrepreneurial in nature and there are job opportunies available both in formal and informal sector thus almost\n",
    "every of the respondent had a source of income.\n"
   ]
  },
  {
   "cell_type": "code",
   "execution_count": 221,
   "metadata": {},
   "outputs": [
    {
     "name": "stdout",
     "output_type": "stream",
     "text": [
      "Primary education                  12689\n",
      "No formal education                 4467\n",
      "Secondary education                 4207\n",
      "Tertiary education                  1144\n",
      "Vocational/Specialised training      801\n",
      "6                                     27\n",
      "Other/Dont know/RTA                    8\n",
      "Name: Education_Level, dtype: int64\n"
     ]
    }
   ],
   "source": [
    "#df['Education_Level'] = df['Education_Level'].drop(columns=['6', 'Other/Dont know/RTA'], axis=1, inplace=True)\n",
    "print(df['Education_Level'].value_counts())"
   ]
  },
  {
   "cell_type": "code",
   "execution_count": 222,
   "metadata": {},
   "outputs": [],
   "source": [
    "df['Education_Level'].replace(['6', 'Other/Dont know/RTA'],inplace=True)\n"
   ]
  },
  {
   "cell_type": "markdown",
   "metadata": {},
   "source": [
    "Replacing variable '6' with Other/Dont know since it is not known what it represent."
   ]
  },
  {
   "cell_type": "code",
   "execution_count": 223,
   "metadata": {},
   "outputs": [
    {
     "name": "stdout",
     "output_type": "stream",
     "text": [
      "Primary education                  12705\n",
      "No formal education                 4477\n",
      "Secondary education                 4216\n",
      "Tertiary education                  1144\n",
      "Vocational/Specialised training      801\n",
      "Name: Education_Level, dtype: int64\n"
     ]
    }
   ],
   "source": [
    "# display of variables in education_level column and their frequency\n",
    "print(df['Education_Level'].value_counts())"
   ]
  },
  {
   "cell_type": "code",
   "execution_count": 224,
   "metadata": {},
   "outputs": [
    {
     "data": {
      "image/png": "[encoded data removed]",
      "text/plain": [
       "<Figure size 576x576 with 1 Axes>"
      ]
     },
     "metadata": {},
     "output_type": "display_data"
    }
   ],
   "source": [
    "plt.figure(figsize=(8, 8))\n",
    "plt.pie(df['Education_Level'].value_counts(), labels=['Primary education', 'No formal education',\n",
    "'Secondary education', 'Vocational/Specialised training', 'Tertiary education'], startangle=90, autopct='%.1f%%', explode=[0, 0,0.1,0, 0.1])\n",
    "plt.legend(loc='upper right')\n",
    "plt.show()"
   ]
  },
  {
   "cell_type": "markdown",
   "metadata": {},
   "source": [
    "primary education has the highest percentage of 54.4  while vocationalised or specialised training the lowest of 3.4%.This shows\n",
    "most of the respondents only got primary education and only afew  of them proceeded to get tertiary or vocational educational training."
   ]
  },
  {
   "cell_type": "code",
   "execution_count": 225,
   "metadata": {},
   "outputs": [
    {
     "data": {
      "image/png": "[encoded data removed]",
      "text/plain": [
       "<Figure size 720x720 with 2 Axes>"
      ]
     },
     "metadata": {
      "needs_background": "light"
     },
     "output_type": "display_data"
    }
   ],
   "source": [
    "#correlation\n",
    "plt.figure(figsize=(10,10))\n",
    "sns.heatmap(df.corr(), annot=True)\n",
    "plt.show()"
   ]
  },
  {
   "cell_type": "markdown",
   "metadata": {},
   "source": [
    "Respondent Age is lowly correlated with household_size at -0.12.this means that when respondent age increase household size decreases but\n",
    "by a lower multiplier."
   ]
  },
  {
   "cell_type": "code",
   "execution_count": 226,
   "metadata": {},
   "outputs": [
    {
     "data": {
      "image/png": "[encoded data removed]",
      "text/plain": [
       "<Figure size 432x288 with 1 Axes>"
      ]
     },
     "metadata": {
      "needs_background": "light"
     },
     "output_type": "display_data"
    }
   ],
   "source": [
    "#checking outliers\n",
    "sns. boxplot(x=df['Respondent_Age'])\n",
    "plt.show()"
   ]
  },
  {
   "cell_type": "markdown",
   "metadata": {},
   "source": [
    "Outliers are many as shown by the boxplot above.we will need to remove or replace them."
   ]
  },
  {
   "cell_type": "code",
   "execution_count": 227,
   "metadata": {},
   "outputs": [],
   "source": [
    "# a function to remove outliers\n",
    "def remove_outliers(df,x):\n",
    "    q1 = np.percentile(df[x],25)\n",
    "    q3 = np.percentile(df[x],75)\n",
    "    iqr = q3 - q1\n",
    "    cut_off = iqr * 1.5\n",
    "    lower,upper = 1, (cut_off + q3)\n",
    "    df = df[(df[x] > lower) & (df[x] < upper)]\n",
    "    print(f'Outliers of {x} has been removed')\n",
    "    return df "
   ]
  },
  {
   "cell_type": "code",
   "execution_count": 228,
   "metadata": {},
   "outputs": [
    {
     "name": "stdout",
     "output_type": "stream",
     "text": [
      "Outliers of Respondent_Age has been removed\n"
     ]
    },
    {
     "data": {
      "image/png": "[encoded data removed]",
      "text/plain": [
       "<Figure size 432x288 with 1 Axes>"
      ]
     },
     "metadata": {
      "needs_background": "light"
     },
     "output_type": "display_data"
    }
   ],
   "source": [
    "df = remove_outliers(df, 'Respondent_Age')\n",
    "sns.boxplot(x=df['Respondent_Age'])\n",
    "plt.show()"
   ]
  },
  {
   "cell_type": "markdown",
   "metadata": {},
   "source": [
    "Outliers in respondent age has been removed so as to ensure they don't interfere in our model."
   ]
  },
  {
   "cell_type": "code",
   "execution_count": 229,
   "metadata": {},
   "outputs": [
    {
     "data": {
      "image/png": "[encoded data removed]",
      "text/plain": [
       "<Figure size 432x288 with 1 Axes>"
      ]
     },
     "metadata": {
      "needs_background": "light"
     },
     "output_type": "display_data"
    }
   ],
   "source": [
    "sns.boxplot(x=df['household_size'])\n",
    "plt.show()"
   ]
  },
  {
   "cell_type": "markdown",
   "metadata": {},
   "source": [
    "There are a few outliers in household size thus there is no need of removing them to avoid overfitting our data."
   ]
  },
  {
   "cell_type": "code",
   "execution_count": 230,
   "metadata": {},
   "outputs": [
    {
     "name": "stdout",
     "output_type": "stream",
     "text": [
      "datetime64[ns]\n",
      "0       1970-01-01 00:00:00.000002018\n",
      "1       1970-01-01 00:00:00.000002018\n",
      "2       1970-01-01 00:00:00.000002018\n",
      "3       1970-01-01 00:00:00.000002018\n",
      "4       1970-01-01 00:00:00.000002018\n",
      "                     ...             \n",
      "23519   1970-01-01 00:00:00.000002018\n",
      "23520   1970-01-01 00:00:00.000002018\n",
      "23521   1970-01-01 00:00:00.000002018\n",
      "23522   1970-01-01 00:00:00.000002018\n",
      "23523   1970-01-01 00:00:00.000002018\n",
      "Name: year, Length: 23104, dtype: datetime64[ns]\n"
     ]
    },
    {
     "name": "stderr",
     "output_type": "stream",
     "text": [
      "C:\\Users\\test\\AppData\\Local\\Temp\\ipykernel_5400\\2997146763.py:2: SettingWithCopyWarning: \n",
      "A value is trying to be set on a copy of a slice from a DataFrame.\n",
      "Try using .loc[row_indexer,col_indexer] = value instead\n",
      "\n",
      "See the caveats in the documentation: https://pandas.pydata.org/pandas-docs/stable/user_guide/indexing.html#returning-a-view-versus-a-copy\n",
      "  df['year'] = pd.to_datetime(df['year'])\n"
     ]
    }
   ],
   "source": [
    "# converting year into datetime so as to anlyze it\n",
    "df['year'] = pd.to_datetime(df['year'])\n",
    "print(df['year'].dtype)\n",
    "print(df['year'])"
   ]
  },
  {
   "cell_type": "code",
   "execution_count": 231,
   "metadata": {},
   "outputs": [
    {
     "name": "stderr",
     "output_type": "stream",
     "text": [
      "C:\\Users\\test\\AppData\\Local\\Temp\\ipykernel_5400\\2908321066.py:1: SettingWithCopyWarning: \n",
      "A value is trying to be set on a copy of a slice from a DataFrame.\n",
      "Try using .loc[row_indexer,col_indexer] = value instead\n",
      "\n",
      "See the caveats in the documentation: https://pandas.pydata.org/pandas-docs/stable/user_guide/indexing.html#returning-a-view-versus-a-copy\n",
      "  df['month'] = df['year'].dt.month\n"
     ]
    },
    {
     "data": {
      "text/plain": [
       "0        1\n",
       "1        1\n",
       "2        1\n",
       "3        1\n",
       "4        1\n",
       "        ..\n",
       "23519    1\n",
       "23520    1\n",
       "23521    1\n",
       "23522    1\n",
       "23523    1\n",
       "Name: month, Length: 23104, dtype: int64"
      ]
     },
     "execution_count": 231,
     "metadata": {},
     "output_type": "execute_result"
    }
   ],
   "source": [
    "df['month'] = df['year'].dt.month\n",
    "df['month']\n"
   ]
  },
  {
   "cell_type": "code",
   "execution_count": 232,
   "metadata": {},
   "outputs": [
    {
     "name": "stderr",
     "output_type": "stream",
     "text": [
      "C:\\Users\\test\\AppData\\Local\\Temp\\ipykernel_5400\\625778922.py:1: SettingWithCopyWarning: \n",
      "A value is trying to be set on a copy of a slice from a DataFrame.\n",
      "Try using .loc[row_indexer,col_indexer] = value instead\n",
      "\n",
      "See the caveats in the documentation: https://pandas.pydata.org/pandas-docs/stable/user_guide/indexing.html#returning-a-view-versus-a-copy\n",
      "  df['date'] = df['year'].dt.date\n"
     ]
    },
    {
     "data": {
      "text/plain": [
       "0        1970-01-01\n",
       "1        1970-01-01\n",
       "2        1970-01-01\n",
       "3        1970-01-01\n",
       "4        1970-01-01\n",
       "            ...    \n",
       "23519    1970-01-01\n",
       "23520    1970-01-01\n",
       "23521    1970-01-01\n",
       "23522    1970-01-01\n",
       "23523    1970-01-01\n",
       "Name: date, Length: 23104, dtype: object"
      ]
     },
     "execution_count": 232,
     "metadata": {},
     "output_type": "execute_result"
    }
   ],
   "source": [
    "df['date'] = df['year'].dt.date\n",
    "df['date']"
   ]
  },
  {
   "cell_type": "markdown",
   "metadata": {},
   "source": [
    "dates, years and months  are the same thus we should remove them."
   ]
  },
  {
   "cell_type": "code",
   "execution_count": 233,
   "metadata": {},
   "outputs": [
    {
     "data": {
      "text/plain": [
       "uniqueid_1       4\n",
       "uniqueid_1375    4\n",
       "uniqueid_1388    4\n",
       "uniqueid_1387    4\n",
       "uniqueid_1386    4\n",
       "                ..\n",
       "uniqueid_7298    1\n",
       "uniqueid_7297    1\n",
       "uniqueid_7296    1\n",
       "uniqueid_7295    1\n",
       "uniqueid_6515    1\n",
       "Name: UniqueID, Length: 8667, dtype: int64"
      ]
     },
     "execution_count": 233,
     "metadata": {},
     "output_type": "execute_result"
    }
   ],
   "source": [
    "df.UniqueID.value_counts()"
   ]
  },
  {
   "cell_type": "code",
   "execution_count": 234,
   "metadata": {},
   "outputs": [
    {
     "name": "stderr",
     "output_type": "stream",
     "text": [
      "C:\\Users\\test\\AppData\\Local\\Temp\\ipykernel_5400\\2204119063.py:2: SettingWithCopyWarning: \n",
      "A value is trying to be set on a copy of a slice from a DataFrame\n",
      "\n",
      "See the caveats in the documentation: https://pandas.pydata.org/pandas-docs/stable/user_guide/indexing.html#returning-a-view-versus-a-copy\n",
      "  df.drop(columns=['year', 'date', 'month','UniqueID'], axis=1, inplace=True)\n"
     ]
    }
   ],
   "source": [
    "# dropping columns to avoid overfitting in our data\n",
    "df.drop(columns=['year', 'date', 'month','UniqueID'], axis=1, inplace=True)"
   ]
  },
  {
   "cell_type": "code",
   "execution_count": 235,
   "metadata": {},
   "outputs": [
    {
     "data": {
      "text/plain": [
       "Index(['country', 'Bank_Account', 'Location_Type', 'Cellphone_Access',\n",
       "       'household_size', 'Respondent_Age', 'Gender', 'Relationship_with_head',\n",
       "       'marital_status', 'Education_Level', 'Job_Type'],\n",
       "      dtype='object')"
      ]
     },
     "execution_count": 235,
     "metadata": {},
     "output_type": "execute_result"
    }
   ],
   "source": [
    "df.columns"
   ]
  },
  {
   "cell_type": "code",
   "execution_count": 236,
   "metadata": {},
   "outputs": [
    {
     "data": {
      "text/plain": [
       "Head of Household      12517\n",
       "Spouse                  6465\n",
       "Child                   2211\n",
       "Parent                  1063\n",
       "Other relative           659\n",
       "Other non-relatives      189\n",
       "Name: Relationship_with_head, dtype: int64"
      ]
     },
     "execution_count": 236,
     "metadata": {},
     "output_type": "execute_result"
    }
   ],
   "source": [
    "df['Relationship_with_head'].value_counts()"
   ]
  },
  {
   "cell_type": "markdown",
   "metadata": {},
   "source": [
    "Does not show any relevant data for our model thus we will remove it."
   ]
  },
  {
   "cell_type": "code",
   "execution_count": 237,
   "metadata": {},
   "outputs": [
    {
     "name": "stderr",
     "output_type": "stream",
     "text": [
      "C:\\Users\\test\\AppData\\Local\\Temp\\ipykernel_5400\\321009581.py:1: SettingWithCopyWarning: \n",
      "A value is trying to be set on a copy of a slice from a DataFrame\n",
      "\n",
      "See the caveats in the documentation: https://pandas.pydata.org/pandas-docs/stable/user_guide/indexing.html#returning-a-view-versus-a-copy\n",
      "  df.drop(columns=['Relationship_with_head', 'country'],axis=1, inplace=True)\n"
     ]
    },
    {
     "data": {
      "text/html": [
       "<div>\n",
       "<style scoped>\n",
       "    .dataframe tbody tr th:only-of-type {\n",
       "        vertical-align: middle;\n",
       "    }\n",
       "\n",
       "    .dataframe tbody tr th {\n",
       "        vertical-align: top;\n",
       "    }\n",
       "\n",
       "    .dataframe thead th {\n",
       "        text-align: right;\n",
       "    }\n",
       "</style>\n",
       "<table border=\"1\" class=\"dataframe\">\n",
       "  <thead>\n",
       "    <tr style=\"text-align: right;\">\n",
       "      <th></th>\n",
       "      <th>Bank_Account</th>\n",
       "      <th>Location_Type</th>\n",
       "      <th>Cellphone_Access</th>\n",
       "      <th>household_size</th>\n",
       "      <th>Respondent_Age</th>\n",
       "      <th>Gender</th>\n",
       "      <th>marital_status</th>\n",
       "      <th>Education_Level</th>\n",
       "      <th>Job_Type</th>\n",
       "    </tr>\n",
       "  </thead>\n",
       "  <tbody>\n",
       "    <tr>\n",
       "      <th>0</th>\n",
       "      <td>Yes</td>\n",
       "      <td>Rural</td>\n",
       "      <td>Yes</td>\n",
       "      <td>3.0</td>\n",
       "      <td>24.0</td>\n",
       "      <td>Female</td>\n",
       "      <td>Married/Living together</td>\n",
       "      <td>Secondary education</td>\n",
       "      <td>Self employed</td>\n",
       "    </tr>\n",
       "    <tr>\n",
       "      <th>1</th>\n",
       "      <td>No</td>\n",
       "      <td>Rural</td>\n",
       "      <td>No</td>\n",
       "      <td>5.0</td>\n",
       "      <td>70.0</td>\n",
       "      <td>Female</td>\n",
       "      <td>Widowed</td>\n",
       "      <td>No formal education</td>\n",
       "      <td>Government Dependent</td>\n",
       "    </tr>\n",
       "    <tr>\n",
       "      <th>2</th>\n",
       "      <td>Yes</td>\n",
       "      <td>Urban</td>\n",
       "      <td>Yes</td>\n",
       "      <td>5.0</td>\n",
       "      <td>26.0</td>\n",
       "      <td>Male</td>\n",
       "      <td>Single/Never Married</td>\n",
       "      <td>Vocational/Specialised training</td>\n",
       "      <td>Self employed</td>\n",
       "    </tr>\n",
       "    <tr>\n",
       "      <th>3</th>\n",
       "      <td>No</td>\n",
       "      <td>Rural</td>\n",
       "      <td>Yes</td>\n",
       "      <td>5.0</td>\n",
       "      <td>34.0</td>\n",
       "      <td>Female</td>\n",
       "      <td>Married/Living together</td>\n",
       "      <td>Primary education</td>\n",
       "      <td>Formally employed Private</td>\n",
       "    </tr>\n",
       "    <tr>\n",
       "      <th>4</th>\n",
       "      <td>No</td>\n",
       "      <td>Urban</td>\n",
       "      <td>No</td>\n",
       "      <td>8.0</td>\n",
       "      <td>26.0</td>\n",
       "      <td>Male</td>\n",
       "      <td>Single/Never Married</td>\n",
       "      <td>Primary education</td>\n",
       "      <td>Informally employed</td>\n",
       "    </tr>\n",
       "  </tbody>\n",
       "</table>\n",
       "</div>"
      ],
      "text/plain": [
       "  Bank_Account Location_Type Cellphone_Access  household_size  Respondent_Age  \\\n",
       "0          Yes         Rural              Yes             3.0            24.0   \n",
       "1           No         Rural               No             5.0            70.0   \n",
       "2          Yes         Urban              Yes             5.0            26.0   \n",
       "3           No         Rural              Yes             5.0            34.0   \n",
       "4           No         Urban               No             8.0            26.0   \n",
       "\n",
       "   Gender           marital_status                  Education_Level  \\\n",
       "0  Female  Married/Living together              Secondary education   \n",
       "1  Female                  Widowed              No formal education   \n",
       "2    Male     Single/Never Married  Vocational/Specialised training   \n",
       "3  Female  Married/Living together                Primary education   \n",
       "4    Male     Single/Never Married                Primary education   \n",
       "\n",
       "                    Job_Type  \n",
       "0              Self employed  \n",
       "1       Government Dependent  \n",
       "2              Self employed  \n",
       "3  Formally employed Private  \n",
       "4        Informally employed  "
      ]
     },
     "execution_count": 237,
     "metadata": {},
     "output_type": "execute_result"
    }
   ],
   "source": [
    "\n",
    "df.drop(columns=['Relationship_with_head', 'country'],axis=1, inplace=True)\n",
    "df.head()"
   ]
  },
  {
   "cell_type": "code",
   "execution_count": 238,
   "metadata": {},
   "outputs": [
    {
     "data": {
      "text/html": [
       "<div>\n",
       "<style scoped>\n",
       "    .dataframe tbody tr th:only-of-type {\n",
       "        vertical-align: middle;\n",
       "    }\n",
       "\n",
       "    .dataframe tbody tr th {\n",
       "        vertical-align: top;\n",
       "    }\n",
       "\n",
       "    .dataframe thead th {\n",
       "        text-align: right;\n",
       "    }\n",
       "</style>\n",
       "<table border=\"1\" class=\"dataframe\">\n",
       "  <thead>\n",
       "    <tr style=\"text-align: right;\">\n",
       "      <th></th>\n",
       "      <th>household_size</th>\n",
       "      <th>Respondent_Age</th>\n",
       "      <th>Bank_Account_Yes</th>\n",
       "      <th>Location_Type_Urban</th>\n",
       "      <th>Cellphone_Access_Yes</th>\n",
       "      <th>Gender_Male</th>\n",
       "      <th>marital_status_Dont know</th>\n",
       "      <th>marital_status_Married/Living together</th>\n",
       "      <th>marital_status_Single/Never Married</th>\n",
       "      <th>marital_status_Widowed</th>\n",
       "      <th>...</th>\n",
       "      <th>Education_Level_Vocational/Specialised training</th>\n",
       "      <th>Job_Type_Farming and Fishing</th>\n",
       "      <th>Job_Type_Formally employed Government</th>\n",
       "      <th>Job_Type_Formally employed Private</th>\n",
       "      <th>Job_Type_Government Dependent</th>\n",
       "      <th>Job_Type_Informally employed</th>\n",
       "      <th>Job_Type_No Income</th>\n",
       "      <th>Job_Type_Other Income</th>\n",
       "      <th>Job_Type_Remittance Dependent</th>\n",
       "      <th>Job_Type_Self employed</th>\n",
       "    </tr>\n",
       "  </thead>\n",
       "  <tbody>\n",
       "    <tr>\n",
       "      <th>0</th>\n",
       "      <td>3.0</td>\n",
       "      <td>24.0</td>\n",
       "      <td>1</td>\n",
       "      <td>0</td>\n",
       "      <td>1</td>\n",
       "      <td>0</td>\n",
       "      <td>0</td>\n",
       "      <td>1</td>\n",
       "      <td>0</td>\n",
       "      <td>0</td>\n",
       "      <td>...</td>\n",
       "      <td>0</td>\n",
       "      <td>0</td>\n",
       "      <td>0</td>\n",
       "      <td>0</td>\n",
       "      <td>0</td>\n",
       "      <td>0</td>\n",
       "      <td>0</td>\n",
       "      <td>0</td>\n",
       "      <td>0</td>\n",
       "      <td>1</td>\n",
       "    </tr>\n",
       "    <tr>\n",
       "      <th>1</th>\n",
       "      <td>5.0</td>\n",
       "      <td>70.0</td>\n",
       "      <td>0</td>\n",
       "      <td>0</td>\n",
       "      <td>0</td>\n",
       "      <td>0</td>\n",
       "      <td>0</td>\n",
       "      <td>0</td>\n",
       "      <td>0</td>\n",
       "      <td>1</td>\n",
       "      <td>...</td>\n",
       "      <td>0</td>\n",
       "      <td>0</td>\n",
       "      <td>0</td>\n",
       "      <td>0</td>\n",
       "      <td>1</td>\n",
       "      <td>0</td>\n",
       "      <td>0</td>\n",
       "      <td>0</td>\n",
       "      <td>0</td>\n",
       "      <td>0</td>\n",
       "    </tr>\n",
       "    <tr>\n",
       "      <th>2</th>\n",
       "      <td>5.0</td>\n",
       "      <td>26.0</td>\n",
       "      <td>1</td>\n",
       "      <td>1</td>\n",
       "      <td>1</td>\n",
       "      <td>1</td>\n",
       "      <td>0</td>\n",
       "      <td>0</td>\n",
       "      <td>1</td>\n",
       "      <td>0</td>\n",
       "      <td>...</td>\n",
       "      <td>1</td>\n",
       "      <td>0</td>\n",
       "      <td>0</td>\n",
       "      <td>0</td>\n",
       "      <td>0</td>\n",
       "      <td>0</td>\n",
       "      <td>0</td>\n",
       "      <td>0</td>\n",
       "      <td>0</td>\n",
       "      <td>1</td>\n",
       "    </tr>\n",
       "    <tr>\n",
       "      <th>3</th>\n",
       "      <td>5.0</td>\n",
       "      <td>34.0</td>\n",
       "      <td>0</td>\n",
       "      <td>0</td>\n",
       "      <td>1</td>\n",
       "      <td>0</td>\n",
       "      <td>0</td>\n",
       "      <td>1</td>\n",
       "      <td>0</td>\n",
       "      <td>0</td>\n",
       "      <td>...</td>\n",
       "      <td>0</td>\n",
       "      <td>0</td>\n",
       "      <td>0</td>\n",
       "      <td>1</td>\n",
       "      <td>0</td>\n",
       "      <td>0</td>\n",
       "      <td>0</td>\n",
       "      <td>0</td>\n",
       "      <td>0</td>\n",
       "      <td>0</td>\n",
       "    </tr>\n",
       "    <tr>\n",
       "      <th>4</th>\n",
       "      <td>8.0</td>\n",
       "      <td>26.0</td>\n",
       "      <td>0</td>\n",
       "      <td>1</td>\n",
       "      <td>0</td>\n",
       "      <td>1</td>\n",
       "      <td>0</td>\n",
       "      <td>0</td>\n",
       "      <td>1</td>\n",
       "      <td>0</td>\n",
       "      <td>...</td>\n",
       "      <td>0</td>\n",
       "      <td>0</td>\n",
       "      <td>0</td>\n",
       "      <td>0</td>\n",
       "      <td>0</td>\n",
       "      <td>1</td>\n",
       "      <td>0</td>\n",
       "      <td>0</td>\n",
       "      <td>0</td>\n",
       "      <td>0</td>\n",
       "    </tr>\n",
       "  </tbody>\n",
       "</table>\n",
       "<p>5 rows × 23 columns</p>\n",
       "</div>"
      ],
      "text/plain": [
       "   household_size  Respondent_Age  Bank_Account_Yes  Location_Type_Urban  \\\n",
       "0             3.0            24.0                 1                    0   \n",
       "1             5.0            70.0                 0                    0   \n",
       "2             5.0            26.0                 1                    1   \n",
       "3             5.0            34.0                 0                    0   \n",
       "4             8.0            26.0                 0                    1   \n",
       "\n",
       "   Cellphone_Access_Yes  Gender_Male  marital_status_Dont know  \\\n",
       "0                     1            0                         0   \n",
       "1                     0            0                         0   \n",
       "2                     1            1                         0   \n",
       "3                     1            0                         0   \n",
       "4                     0            1                         0   \n",
       "\n",
       "   marital_status_Married/Living together  \\\n",
       "0                                       1   \n",
       "1                                       0   \n",
       "2                                       0   \n",
       "3                                       1   \n",
       "4                                       0   \n",
       "\n",
       "   marital_status_Single/Never Married  marital_status_Widowed  ...  \\\n",
       "0                                    0                       0  ...   \n",
       "1                                    0                       1  ...   \n",
       "2                                    1                       0  ...   \n",
       "3                                    0                       0  ...   \n",
       "4                                    1                       0  ...   \n",
       "\n",
       "   Education_Level_Vocational/Specialised training  \\\n",
       "0                                                0   \n",
       "1                                                0   \n",
       "2                                                1   \n",
       "3                                                0   \n",
       "4                                                0   \n",
       "\n",
       "   Job_Type_Farming and Fishing  Job_Type_Formally employed Government  \\\n",
       "0                             0                                      0   \n",
       "1                             0                                      0   \n",
       "2                             0                                      0   \n",
       "3                             0                                      0   \n",
       "4                             0                                      0   \n",
       "\n",
       "   Job_Type_Formally employed Private  Job_Type_Government Dependent  \\\n",
       "0                                   0                              0   \n",
       "1                                   0                              1   \n",
       "2                                   0                              0   \n",
       "3                                   1                              0   \n",
       "4                                   0                              0   \n",
       "\n",
       "   Job_Type_Informally employed  Job_Type_No Income  Job_Type_Other Income  \\\n",
       "0                             0                   0                      0   \n",
       "1                             0                   0                      0   \n",
       "2                             0                   0                      0   \n",
       "3                             0                   0                      0   \n",
       "4                             1                   0                      0   \n",
       "\n",
       "   Job_Type_Remittance Dependent  Job_Type_Self employed  \n",
       "0                              0                       1  \n",
       "1                              0                       0  \n",
       "2                              0                       1  \n",
       "3                              0                       0  \n",
       "4                              0                       0  \n",
       "\n",
       "[5 rows x 23 columns]"
      ]
     },
     "execution_count": 238,
     "metadata": {},
     "output_type": "execute_result"
    }
   ],
   "source": [
    "# converting qualitative data into dummies in order to be compatible with our model\n",
    "df = pd.get_dummies(df, drop_first=True)\n",
    "df.head()"
   ]
  },
  {
   "cell_type": "markdown",
   "metadata": {},
   "source": [
    "Converting qualitatuve data into dummy variables so as to be compatible with our model."
   ]
  },
  {
   "cell_type": "code",
   "execution_count": 239,
   "metadata": {},
   "outputs": [],
   "source": [
    "# segmenting our data so as to get training and testing data\n",
    "x = df.iloc[:, :-1]\n",
    "y = df.iloc[:, -1]"
   ]
  },
  {
   "cell_type": "markdown",
   "metadata": {},
   "source": [
    "Separating our data into two parts which are 'x' and 'y' variables in order to be used to train and test our model."
   ]
  },
  {
   "cell_type": "code",
   "execution_count": 240,
   "metadata": {},
   "outputs": [],
   "source": [
    "# training our model\n",
    "from sklearn.model_selection import train_test_split\n",
    "x_train, x_test, y_train, y_test = train_test_split(x, y, test_size=0.20)\n",
    "# standardization of features in our model\n",
    "from sklearn.preprocessing import StandardScaler\n",
    "sc = StandardScaler()\n",
    "x_train = sc.fit_transform(x_train)\n",
    "x_test = sc.transform(x_test)"
   ]
  },
  {
   "cell_type": "code",
   "execution_count": 241,
   "metadata": {},
   "outputs": [
    {
     "name": "stdout",
     "output_type": "stream",
     "text": [
      "0.9950227223544688\n"
     ]
    }
   ],
   "source": [
    "# modelling our data\n",
    "from sklearn.linear_model import LogisticRegression\n",
    "lr = LogisticRegression()\n",
    "lr.fit(x_train, y_train)\n",
    "accuracy = lr.score(x_test, y_test)\n",
    "print(accuracy)\n",
    "pred = lr.predict(x_test)"
   ]
  },
  {
   "cell_type": "markdown",
   "metadata": {},
   "source": [
    "our model gives us an accuracy of 99%."
   ]
  },
  {
   "cell_type": "code",
   "execution_count": 242,
   "metadata": {},
   "outputs": [
    {
     "name": "stdout",
     "output_type": "stream",
     "text": [
      "              precision    recall  f1-score   support\n",
      "\n",
      "           0       0.99      1.00      1.00      3354\n",
      "           1       1.00      0.98      0.99      1267\n",
      "\n",
      "    accuracy                           1.00      4621\n",
      "   macro avg       1.00      0.99      0.99      4621\n",
      "weighted avg       1.00      1.00      1.00      4621\n",
      "\n"
     ]
    }
   ],
   "source": [
    "# classification report from our model\n",
    "from sklearn.metrics import classification_report, confusion_matrix, ConfusionMatrixDisplay\n",
    "print(classification_report(pred, y_test))"
   ]
  },
  {
   "cell_type": "code",
   "execution_count": 243,
   "metadata": {},
   "outputs": [
    {
     "name": "stdout",
     "output_type": "stream",
     "text": [
      "[[3354    0]\n",
      " [  23 1244]]\n"
     ]
    }
   ],
   "source": [
    "# The confusion matrix from our model\n",
    "print(confusion_matrix(pred, y_test))\n",
    "\n"
   ]
  }
 ],
 "metadata": {
  "kernelspec": {
   "display_name": "Python 3.9.13 64-bit (windows store)",
   "language": "python",
   "name": "python3"
  },
  "language_info": {
   "codemirror_mode": {
    "name": "ipython",
    "version": 3
   },
   "file_extension": ".py",
   "mimetype": "text/x-python",
   "name": "python",
   "nbconvert_exporter": "python",
   "pygments_lexer": "ipython3",
   "version": "3.9.13"
  },
  "orig_nbformat": 4,
  "vscode": {
   "interpreter": {
    "hash": "471942890235b960afcc032a25a8e5700c7132c052e392924afb61f08e63da55"
   }
  }
 },
 "nbformat": 4,
 "nbformat_minor": 2
}
